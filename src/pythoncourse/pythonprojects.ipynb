{
 "cells": [
  {
   "cell_type": "code",
   "execution_count": 2,
   "id": "f9da9f8c",
   "metadata": {},
   "outputs": [],
   "source": [
    "# Create Acronymns\n",
    "\n",
    "def acronoym(string):\n",
    "    \n",
    "    string = string.split()\n",
    "    acr = \"\"\n",
    "    \n",
    "    for items in string:\n",
    "        acr+=items[0].upper()\n",
    "        \n",
    "    return acr"
   ]
  },
  {
   "cell_type": "code",
   "execution_count": 3,
   "id": "5ba7d628",
   "metadata": {},
   "outputs": [
    {
     "data": {
      "text/plain": [
       "'WHO'"
      ]
     },
     "execution_count": 3,
     "metadata": {},
     "output_type": "execute_result"
    }
   ],
   "source": [
    "acronoym(\"World Health Organization\")"
   ]
  },
  {
   "cell_type": "code",
   "execution_count": 4,
   "id": "446a7b13",
   "metadata": {},
   "outputs": [
    {
     "data": {
      "text/plain": [
       "'LOL'"
      ]
     },
     "execution_count": 4,
     "metadata": {},
     "output_type": "execute_result"
    }
   ],
   "source": [
    "acronoym(\"laugh Out Loud\")"
   ]
  },
  {
   "cell_type": "code",
   "execution_count": 5,
   "id": "dc4f6058",
   "metadata": {},
   "outputs": [
    {
     "name": "stdout",
     "output_type": "stream",
     "text": [
      "Enter Your Email: abi.vernekar@gmail.com\n",
      "Your user name is 'abi.vernekar' and your domain is 'gmail.com'\n"
     ]
    }
   ],
   "source": [
    "email = input(\"Enter Your Email: \").strip()\n",
    "username = email[:email.index(\"@\")]\n",
    "domain_name = email[email.index(\"@\")+1:]\n",
    "format_ = (f\"Your user name is '{username}' and your domain is '{domain_name}'\")\n",
    "print(format_)"
   ]
  },
  {
   "cell_type": "code",
   "execution_count": 6,
   "id": "086add4c",
   "metadata": {},
   "outputs": [
    {
     "data": {
      "text/plain": [
       "12"
      ]
     },
     "execution_count": 6,
     "metadata": {},
     "output_type": "execute_result"
    }
   ],
   "source": [
    "email.index('@')"
   ]
  },
  {
   "cell_type": "code",
   "execution_count": 11,
   "id": "cc8bde77",
   "metadata": {},
   "outputs": [],
   "source": [
    "import random\n",
    "when = ['A few years ago', 'Yesterday', 'Last night', 'A long time ago','On 20th Jan']\n",
    "who = ['a rabbit', 'an elephant', 'a mouse', 'a turtle','a cat']\n",
    "name = ['Ali', 'Miriam','daniel', 'Hoouk', 'Starwalker']\n",
    "residence = ['Barcelona','India', 'Germany', 'Venice', 'England']\n",
    "went = ['cinema', 'university','seminar', 'school', 'laundry']\n",
    "happened = ['made a lot of friends','Eats a burger', 'found a secret key', 'solved a mistery', 'wrote a book']\n",
    "\n"
   ]
  },
  {
   "cell_type": "code",
   "execution_count": 16,
   "id": "90a65956",
   "metadata": {},
   "outputs": [
    {
     "name": "stdout",
     "output_type": "stream",
     "text": [
      "A few years ago, a turtle that lived in Barcelona, went to the seminar and made a lot of friends\n"
     ]
    }
   ],
   "source": [
    "print(random.choice(when) + ', ' + random.choice(who) + ' that lived in ' + random.choice(residence) + ', went to the ' + random.choice(went) + ' and ' + random.choice(happened))\n"
   ]
  },
  {
   "cell_type": "code",
   "execution_count": 15,
   "id": "49ec67c6",
   "metadata": {},
   "outputs": [
    {
     "name": "stdout",
     "output_type": "stream",
     "text": [
      "Yesterdayan elephant\n"
     ]
    }
   ],
   "source": []
  },
  {
   "cell_type": "code",
   "execution_count": null,
   "id": "87dca099",
   "metadata": {},
   "outputs": [],
   "source": []
  },
  {
   "cell_type": "code",
   "execution_count": null,
   "id": "3b592807",
   "metadata": {},
   "outputs": [],
   "source": []
  }
 ],
 "metadata": {
  "kernelspec": {
   "display_name": "Python 3 (ipykernel)",
   "language": "python",
   "name": "python3"
  },
  "language_info": {
   "codemirror_mode": {
    "name": "ipython",
    "version": 3
   },
   "file_extension": ".py",
   "mimetype": "text/x-python",
   "name": "python",
   "nbconvert_exporter": "python",
   "pygments_lexer": "ipython3",
   "version": "3.11.5"
  }
 },
 "nbformat": 4,
 "nbformat_minor": 5
}
